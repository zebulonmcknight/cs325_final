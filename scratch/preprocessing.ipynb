{
 "cells": [
  {
   "cell_type": "code",
   "execution_count": 15,
   "id": "09213afd",
   "metadata": {},
   "outputs": [],
   "source": [
    "import numpy as np \n",
    "import pandas as pd\n",
    "from PIL import Image, ImageOps, ImageFilter \n",
    "import matplotlib.pyplot as plt \n",
    "import os \n",
    "from tqdm import tqdm \n",
    "\n",
    "from sklearn.preprocessing import StandardScaler\n",
    "from sklearn.decomposition import PCA \n",
    "\n",
    "from sklearn.model_selection import train_test_split\n",
    "from sklearn.linear_model import LogisticRegression\n",
    "from sklearn.metrics import accuracy_score, log_loss, confusion_matrix"
   ]
  },
  {
   "cell_type": "code",
   "execution_count": 2,
   "id": "8cb6899a",
   "metadata": {},
   "outputs": [],
   "source": [
    "# Label Encoding \n",
    "\n",
    "labels = pd.read_csv(\"data/labels.csv\")\n",
    "breeds = labels['breed'].unique() \n",
    "\n",
    "# Dict mapping 'breed' to index, model will operate on integers and we will convert back to breeds \n",
    "classes = {b: i for i, b in enumerate(breeds)}"
   ]
  },
  {
   "cell_type": "code",
   "execution_count": 3,
   "id": "739401f5",
   "metadata": {},
   "outputs": [
    {
     "name": "stderr",
     "output_type": "stream",
     "text": [
      "100%|██████████| 10222/10222 [00:25<00:00, 394.83it/s]\n"
     ]
    }
   ],
   "source": [
    "# Image Preprocessing \n",
    "samples = []\n",
    "targets = []\n",
    "\n",
    "# for every image (add a progress bar)\n",
    "for i, row in tqdm(labels.iterrows(), total = len(labels)):   \n",
    "    path = os.path.join(\"data/train/\", f\"{row[\"id\"]}.jpg\") #retrieve the iamge\n",
    "    img = Image.open(path).resize((96, 96)) #resize \n",
    "    img = img.convert('L') #gray scale\n",
    "    img = ImageOps.equalize(img) #boost contrast\n",
    "    img = img.filter(ImageFilter.GaussianBlur(radius=0.5)) #smooth edges\n",
    "    sample = np.array(img) #convert to numerical data\n",
    "    sample = sample/255 #normalize pixel values from 0->255 to 0->1\n",
    "    sample = sample.flatten() #flatten into 1d array \n",
    "\n",
    "    # store image data and correct class label \n",
    "    samples.append(sample)\n",
    "    targets.append(classes[row['breed']])"
   ]
  },
  {
   "cell_type": "code",
   "execution_count": 4,
   "id": "17f6b614",
   "metadata": {},
   "outputs": [],
   "source": [
    "# Scaling, this will make std = 1 and mean approximately = 0, should be nearly 0 \n",
    "\n",
    "scaler = StandardScaler(with_mean=True,with_std=True)\n",
    "scaled_samples = scaler.fit_transform(samples)\n"
   ]
  },
  {
   "cell_type": "code",
   "execution_count": null,
   "id": "e646f0a7",
   "metadata": {},
   "outputs": [],
   "source": [
    "# Standard PCA to reduce computational cost \n",
    "\n",
    "pca = PCA(n_components=500, svd_solver='randomized', random_state=42)\n",
    "samples_pca = pca.fit_transform(scaled_samples)"
   ]
  },
  {
   "cell_type": "code",
   "execution_count": null,
   "id": "c82e4b38",
   "metadata": {},
   "outputs": [],
   "source": [
    "sample_df = pd.DataFrame(samples_pca)\n",
    "sample_df.to_csv(\"data/processed_samples.csv\", index=False, header=False,sep=';')"
   ]
  },
  {
   "cell_type": "code",
   "execution_count": 13,
   "id": "1fe2651a",
   "metadata": {},
   "outputs": [],
   "source": [
    "target_df = pd.DataFrame(targets)\n",
    "target_df.to_csv(\"data/targets.csv\", index=False, header=False,sep=';')"
   ]
  },
  {
   "cell_type": "code",
   "execution_count": 38,
   "id": "b4c69a17",
   "metadata": {},
   "outputs": [],
   "source": [
    "X = np.array(samples_pca) \n",
    "y = np.array(targets)\n",
    "\n",
    "X_train, X_val, y_train, y_val = train_test_split(X, y, test_size = 0.2, stratify=y)"
   ]
  }
 ],
 "metadata": {
  "kernelspec": {
   "display_name": ".venv",
   "language": "python",
   "name": "python3"
  },
  "language_info": {
   "codemirror_mode": {
    "name": "ipython",
    "version": 3
   },
   "file_extension": ".py",
   "mimetype": "text/x-python",
   "name": "python",
   "nbconvert_exporter": "python",
   "pygments_lexer": "ipython3",
   "version": "3.13.5"
  }
 },
 "nbformat": 4,
 "nbformat_minor": 5
}
